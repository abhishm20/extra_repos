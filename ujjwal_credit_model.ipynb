{
 "cells": [
  {
   "cell_type": "code",
   "execution_count": 1,
   "metadata": {},
   "outputs": [],
   "source": [
    "import pandas as pd\n",
    "import numpy as np\n",
    "import re\n",
    "import mysql.connector\n",
    "import datetime\n",
    "\n",
    "data_team = mysql.connector.connect(\n",
    "  host=\"data-team.c5rldyuxcxmg.ap-south-1.rds.amazonaws.com\",\n",
    "  user=\"root\",\n",
    "  passwd=\"ainaa007\",\n",
    "  use_pure=True)\n",
    "\n",
    "loan_type = [\n",
    "    'CONSUMER LOAN',\n",
    "    'PERSONAL LOAN',\n",
    "    'CREDIT CARD',\n",
    "    'GOLD LOAN',\n",
    "    'BUSINESS',\n",
    "    'TWO-WHEELER LOAN',\n",
    "    'OTHER',\n",
    "    'AUTO LOAN',\n",
    "    'HOUSING LOAN',\n",
    "]\n"
   ]
  },
  {
   "cell_type": "code",
   "execution_count": 3,
   "metadata": {},
   "outputs": [],
   "source": [
    "def get_cibil_account_feature_data(pan=\"AGZPM8025C\"):\n",
    "    cibil_data = pd.read_sql(f'''SELECT * from lsd_data.cibil_account_etl_data where CUSTOMERID=\"{pan}\"''', data_team)\n",
    "    cibil_data['dpd'] = np.where(cibil_data['DAYS_PAST_DUE'].isin(['STD', 'XXX', '', 'TYPE:']),0,\n",
    "                                 np.where(cibil_data['DAYS_PAST_DUE']\n",
    "                                          .isin(['SUB', 'SMA', 'DBT', 'LSS']),180,\n",
    "                                          cibil_data['DAYS_PAST_DUE']))\n",
    "    cibil_data['dpd'] = cibil_data['dpd']*1\n",
    "\n",
    "    cibil_data['acct_type_cured'] = cibil_data['ACCT_TYPE_CD'].apply(lambda x: re.sub(' +', ' ', x))\n",
    "    business_loans = [acct for acct in cibil_data.acct_type_cured.unique().tolist() if 'BUSINESS' in acct]\n",
    "    cibil_data['acct_type_cured'] = np.where(cibil_data['acct_type_cured']\\\n",
    "                                             .isin(business_loans),'BUSINESS', cibil_data['acct_type_cured'])\n",
    "\n",
    "    features = {}\n",
    "    cibil_data['REPORT_DT'] = pd.to_datetime(cibil_data['REPORT_DT'], format='%d/%m/%Y', errors='coerce')\n",
    "    cibil_data['OPEN_DT'] = pd.to_datetime(cibil_data['OPEN_DT'], format='%d/%m/%Y', errors='coerce')\n",
    "    cibil_data['vintage'] = max((cibil_data['REPORT_DT'] - cibil_data['OPEN_DT']) / np.timedelta64(1, 'M'))\n",
    "\n",
    "\n",
    "    features['acct_count'] = len(cibil_data)\n",
    "    features['last_6m_acct_count'] = len(cibil_data[(cibil_data['REPORT_DT'] - cibil_data['OPEN_DT']) \\\n",
    "                                                               / np.timedelta64(1, 'M') <= 6])\n",
    "    features['last_3m_acct_count'] = len(cibil_data[(cibil_data['REPORT_DT'] - cibil_data['OPEN_DT']) \\\n",
    "                                                               / np.timedelta64(1, 'M') <= 3])\n",
    "    features['last_1m_acct_count'] = len(cibil_data[(cibil_data['REPORT_DT'] - cibil_data['OPEN_DT']) \\\n",
    "                                                               / np.timedelta64(1, 'M') <= 1])\n",
    "    features['active_acct_count'] = len(cibil_data[cibil_data['CLOSED_DT'].isna() == True])\n",
    "\n",
    "    for acct_type in loan_type:\n",
    "        df_acct = cibil_data[(cibil_data['acct_type_cured'] == acct_type) & (cibil_data['CLOSED_DT'].isna() == True)]\n",
    "        df_acct['REPORT_DT'] = pd.to_datetime(df_acct['REPORT_DT'], format='%d/%m/%Y')\n",
    "        df_acct['OPEN_DT'] = pd.to_datetime(df_acct['OPEN_DT'], format='%d/%m/%Y')\n",
    "        features[acct_type] = {}\n",
    "        features[acct_type]['count'] = len(df_acct)\n",
    "        features[acct_type]['disbursed_amount'] = sum(df_acct['ORIG_LOAN_AM'])\n",
    "        features[acct_type]['curr_balance'] = sum(df_acct['BALANCE_AM'])\n",
    "        if sum(df_acct['ORIG_LOAN_AM']) > 0:\n",
    "            features[acct_type]['bal_to_disb'] = sum(df_acct['BALANCE_AM']) / sum(df_acct['ORIG_LOAN_AM'])\n",
    "        else:\n",
    "            features[acct_type]['bal_to_disb'] = 0\n",
    "\n",
    "        if acct_type == 'CREDIT CARD':\n",
    "            features[acct_type]['total_limit'] = sum(df_acct['CREDIT_LIMIT_AM'])\n",
    "            if sum(df_acct['CREDIT_LIMIT_AM']) > 0:\n",
    "                features[acct_type]['utilization'] = sum(df_acct['BALANCE_AM']) / sum(\n",
    "                    df_acct['CREDIT_LIMIT_AM'])\n",
    "            else:\n",
    "                features[acct_type]['utilization'] = 0\n",
    "        if len(df_acct['dpd']) > 0:\n",
    "            features[acct_type]['dpd'] = max(df_acct['dpd'])\n",
    "        else:\n",
    "            features[acct_type]['dpd'] = 0\n",
    "    return features"
   ]
  },
  {
   "cell_type": "code",
   "execution_count": 4,
   "metadata": {},
   "outputs": [],
   "source": [
    "def get_cibil_inq_feature_data(pan=\"AGZPM8025C\"):\n",
    "    cibil_inq = pd.read_sql(f'''SELECT * from lsd_data.cibil_enquiry_etl_data where CUSTOMERID=\"{pan}\"''', data_team)\n",
    "    cibil_inq['acct_type_cured'] = cibil_inq['INQ_PURP_CD_4IN'].apply(lambda x: re.sub(' +', ' ', x))\n",
    "    business_inq = [acct for acct in cibil_inq.acct_type_cured.unique().tolist() if 'BUSINESS' in acct]\n",
    "\n",
    "    cibil_inq['acct_type_cured'] = np.where(cibil_inq['acct_type_cured']\n",
    "                                            .isin(business_inq),'BUSINESS', cibil_inq['acct_type_cured'])\n",
    "\n",
    "\n",
    "    features = {}\n",
    "    features['total_inq_count'] = len(cibil_inq)\n",
    "    features['score'] = max(cibil_inq['SCORE'])\n",
    "    try:\n",
    "        cibil_inq['REPORT_DT'] = pd.to_datetime(cibil_inq['REPORT_DT'], format = '%d/%m/%Y')\n",
    "        cibil_inq['INQ_DATE'] = pd.to_datetime(cibil_inq['INQ_DATE'], format = '%d/%m/%Y')\n",
    "        features['last_6m_inq_count'] = len(cibil_inq[(cibil_inq['REPORT_DT'] \\\n",
    "                                                       - cibil_inq['INQ_DATE'])/np.timedelta64(1,'M') <= 6])\n",
    "        features['last_3m_inq_count'] = len(cibil_inq[(cibil_inq['REPORT_DT'] \\\n",
    "                                                       - cibil_inq['INQ_DATE'])/np.timedelta64(1,'M') <= 3])\n",
    "        features['last_1m_inq_count'] = len(cibil_inq[(cibil_inq['REPORT_DT'] \\\n",
    "                                                       - cibil_inq['INQ_DATE'])/np.timedelta64(1,'M') <= 1])\n",
    "    except:\n",
    "        features['last_6m_inq_count'] = 0\n",
    "        features['last_3m_inq_count'] = 0\n",
    "        features['last_1m_inq_count'] = 0\n",
    "    for acct_type in loan_type:\n",
    "        df_acct = cibil_inq[(cibil_inq['acct_type_cured'] == acct_type)]\n",
    "        features[acct_type] = {}\n",
    "        features[acct_type]['inq_count'] = len(df_acct)\n",
    "    return features"
   ]
  },
  {
   "cell_type": "code",
   "execution_count": 5,
   "metadata": {},
   "outputs": [
    {
     "name": "stdout",
     "output_type": "stream",
     "text": [
      "{'total_inq_count': 29, 'score': 584, 'last_6m_inq_count': 0, 'last_3m_inq_count': 0, 'last_1m_inq_count': 0, 'CONSUMER LOAN': {'inq_count': 0}, 'PERSONAL LOAN': {'inq_count': 9}, 'CREDIT CARD': {'inq_count': 14}, 'GOLD LOAN': {'inq_count': 0}, 'BUSINESS': {'inq_count': 1}, 'TWO-WHEELER LOAN': {'inq_count': 0}, 'OTHER': {'inq_count': 2}, 'AUTO LOAN': {'inq_count': 3}, 'HOUSING LOAN': {'inq_count': 0}}\n"
     ]
    }
   ],
   "source": [
    "print(get_cibil_inq_feature_data())"
   ]
  },
  {
   "cell_type": "code",
   "execution_count": 6,
   "metadata": {},
   "outputs": [
    {
     "name": "stdout",
     "output_type": "stream",
     "text": [
      "{'acct_count': 26, 'last_6m_acct_count': 0, 'last_3m_acct_count': 0, 'last_1m_acct_count': 0, 'active_acct_count': 7, 'CONSUMER LOAN': {'count': 0, 'disbursed_amount': 0, 'curr_balance': 0, 'bal_to_disb': 0, 'dpd': 0}, 'PERSONAL LOAN': {'count': 5, 'disbursed_amount': 898000, 'curr_balance': 93663, 'bal_to_disb': 0.10430178173719376, 'dpd': 900}, 'CREDIT CARD': {'count': 0, 'disbursed_amount': 0, 'curr_balance': 0, 'bal_to_disb': 0, 'total_limit': 0, 'utilization': 0, 'dpd': 0}, 'GOLD LOAN': {'count': 0, 'disbursed_amount': 0, 'curr_balance': 0, 'bal_to_disb': 0, 'dpd': 0}, 'BUSINESS': {'count': 1, 'disbursed_amount': 155000, 'curr_balance': 5519, 'bal_to_disb': 0.035606451612903225, 'dpd': 900}, 'TWO-WHEELER LOAN': {'count': 0, 'disbursed_amount': 0, 'curr_balance': 0, 'bal_to_disb': 0, 'dpd': 0}, 'OTHER': {'count': 1, 'disbursed_amount': 87919, 'curr_balance': 87919, 'bal_to_disb': 1.0, 'dpd': 150}, 'AUTO LOAN': {'count': 0, 'disbursed_amount': 0, 'curr_balance': 0, 'bal_to_disb': 0, 'dpd': 0}, 'HOUSING LOAN': {'count': 0, 'disbursed_amount': 0, 'curr_balance': 0, 'bal_to_disb': 0, 'dpd': 0}}\n"
     ]
    },
    {
     "name": "stderr",
     "output_type": "stream",
     "text": [
      "/Users/abhishek/projects/ext/.env/lib/python3.7/site-packages/ipykernel_launcher.py:31: SettingWithCopyWarning: \n",
      "A value is trying to be set on a copy of a slice from a DataFrame.\n",
      "Try using .loc[row_indexer,col_indexer] = value instead\n",
      "\n",
      "See the caveats in the documentation: http://pandas.pydata.org/pandas-docs/stable/user_guide/indexing.html#returning-a-view-versus-a-copy\n",
      "/Users/abhishek/projects/ext/.env/lib/python3.7/site-packages/ipykernel_launcher.py:32: SettingWithCopyWarning: \n",
      "A value is trying to be set on a copy of a slice from a DataFrame.\n",
      "Try using .loc[row_indexer,col_indexer] = value instead\n",
      "\n",
      "See the caveats in the documentation: http://pandas.pydata.org/pandas-docs/stable/user_guide/indexing.html#returning-a-view-versus-a-copy\n"
     ]
    }
   ],
   "source": [
    "print(get_cibil_account_feature_data())"
   ]
  },
  {
   "cell_type": "code",
   "execution_count": null,
   "metadata": {},
   "outputs": [],
   "source": []
  },
  {
   "cell_type": "code",
   "execution_count": null,
   "metadata": {},
   "outputs": [],
   "source": []
  },
  {
   "cell_type": "code",
   "execution_count": null,
   "metadata": {},
   "outputs": [],
   "source": []
  }
 ],
 "metadata": {
  "kernelspec": {
   "display_name": "Python 3",
   "language": "python",
   "name": "python3"
  },
  "language_info": {
   "codemirror_mode": {
    "name": "ipython",
    "version": 3
   },
   "file_extension": ".py",
   "mimetype": "text/x-python",
   "name": "python",
   "nbconvert_exporter": "python",
   "pygments_lexer": "ipython3",
   "version": "3.7.4"
  }
 },
 "nbformat": 4,
 "nbformat_minor": 2
}
